{
 "cells": [
  {
   "cell_type": "code",
   "execution_count": 1,
   "metadata": {},
   "outputs": [],
   "source": [
    "import cv2 as cv\n",
    "import matplotlib.pyplot as plt\n",
    "import numpy as np\n",
    "import os\n",
    "from pathlib import Path"
   ]
  },
  {
   "cell_type": "code",
   "execution_count": 2,
   "metadata": {},
   "outputs": [],
   "source": [
    "# Load the image\n",
    "img_path = \"/hhome/ps2g07/document_analysis/github/Project_Synthesis2-/Sample documents - JPG/Academic transcipts/Certificado de estudios de licenciatura de la SEP/0.jpg\"\n",
    "img = cv.imread(img_path, cv.COLOR_BGR2GRAY)"
   ]
  },
  {
   "cell_type": "code",
   "execution_count": 3,
   "metadata": {},
   "outputs": [],
   "source": [
    "# Convert the image to gray-scale\n",
    "def hough_transform(img):\n",
    "  gray = cv.cvtColor(img, cv.COLOR_BGR2GRAY)\n",
    "  dst = cv.Canny(gray, 50, 200, None, 3)\n",
    "  # Binarize the image\n",
    "  ret,thresh1 = cv.threshold(dst,127,255,cv.THRESH_BINARY)\n",
    "  # Do the lines bigger using morphological operations\n",
    "  #kernel = np.ones((2,2),np.uint8)\n",
    "  #dilation = cv.dilate(thresh1,kernel,iterations = 1)\n",
    "  #\n",
    "  #dst = dilation\n",
    "  linesP = cv.HoughLinesP(dst, 1, np.pi / 180, 100, None, 100, 1)\n",
    "  if linesP is not None:\n",
    "     for i in range(0, len(linesP)):\n",
    "       l = linesP[i][0]\n",
    "       cv.line(img, (l[0], l[1]), (l[2], l[3]), (0,255,255), 1, cv.LINE_AA)\n",
    "  return img"
   ]
  },
  {
   "cell_type": "code",
   "execution_count": 4,
   "metadata": {},
   "outputs": [],
   "source": [
    "jpg = []\n",
    "\n",
    "pdfs_path = '/hhome/ps2g07/document_analysis/github/Project_Synthesis2-/Sample documents - JPG'\n",
    "for dirpath, dirnames, filenames in os.walk(pdfs_path):\n",
    "    for filename in filenames:\n",
    "        if filename.endswith(\".jpg\"):\n",
    "            # Construct the full path\n",
    "            full_path = Path(dirpath) / filename\n",
    "            # Append it to the list\n",
    "            jpg.append(full_path)"
   ]
  },
  {
   "cell_type": "code",
   "execution_count": 5,
   "metadata": {},
   "outputs": [],
   "source": [
    "new_folder = Path('/hhome/ps2g07/document_analysis/github/Project_Synthesis2-/Nil/lines_detection')\n",
    "for img_path in jpg:\n",
    "    new_path = new_folder / img_path.parent.parent.name / img_path.parent.name / img_path.name\n",
    "    new_path.parent.mkdir(parents=True, exist_ok=True)\n",
    "    img = cv.imread(str(img_path))\n",
    "    img = hough_transform(img)\n",
    "    cv.imwrite(str(new_path), img)"
   ]
  },
  {
   "cell_type": "code",
   "execution_count": 134,
   "metadata": {},
   "outputs": [
    {
     "data": {
      "text/plain": [
       "True"
      ]
     },
     "execution_count": 134,
     "metadata": {},
     "output_type": "execute_result"
    }
   ],
   "source": [
    "# Save the image\n",
    "cv.imwrite(\"/hhome/ps2g07/document_analysis/github/Project_Synthesis2-/Nil/lines_detection/houghlines.jpg\", img)"
   ]
  }
 ],
 "metadata": {
  "kernelspec": {
   "display_name": "base",
   "language": "python",
   "name": "python3"
  },
  "language_info": {
   "codemirror_mode": {
    "name": "ipython",
    "version": 3
   },
   "file_extension": ".py",
   "mimetype": "text/x-python",
   "name": "python",
   "nbconvert_exporter": "python",
   "pygments_lexer": "ipython3",
   "version": "3.12.2"
  }
 },
 "nbformat": 4,
 "nbformat_minor": 2
}
