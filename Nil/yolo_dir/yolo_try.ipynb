{
 "cells": [
  {
   "cell_type": "code",
   "execution_count": 3,
   "metadata": {},
   "outputs": [],
   "source": [
    "import pandas as pd\n",
    "import numpy as np\n",
    "import seaborn as sns\n",
    "import os # for handling the directory\n",
    "import shutil\n",
    "import json\n",
    "import tqdm"
   ]
  },
  {
   "cell_type": "code",
   "execution_count": 32,
   "metadata": {},
   "outputs": [],
   "source": [
    "train_json = '/hhome/ps2g07/document_analysis/github/Project_Synthesis2-/Datasets/Synthetics_DS/train.json'\n",
    "with open(train_json) as f:\n",
    "    train_data = json.load(f)\n",
    "\n",
    "val_json = '/hhome/ps2g07/document_analysis/github/Project_Synthesis2-/Datasets/Synthetics_DS/val.json'\n",
    "with open(val_json) as f:\n",
    "    val_data = json.load(f)"
   ]
  },
  {
   "cell_type": "code",
   "execution_count": 103,
   "metadata": {},
   "outputs": [],
   "source": [
    "# Create an auxiliary dictionary to map image_id to filename\n",
    "def obtain_new_dict(data):\n",
    "    id_to_filename = {image['id']: {'file_name': image['file_name'], 'width': image['width'], 'height': image['height']} for image in data['images']}\n",
    "\n",
    "    # Initialize your dictionary with filenames as keys\n",
    "    new_dict = {values['file_name']: {'width': values['width'], 'height': values['height'], 'images': []} for values in id_to_filename.values()}\n",
    "\n",
    "    # Iterate through annotations a single time, adding them to the corresponding list in new_dict\n",
    "    for annotation in data['annotations']:\n",
    "        image_id = annotation['image_id']\n",
    "        if image_id in id_to_filename:  # Check if the image_id exists in the mapping\n",
    "            filename = id_to_filename[image_id]['file_name']\n",
    "            new_dict[filename]['images'].append(annotation)\n",
    "    return new_dict\n",
    "\n",
    "\n",
    "new_dict_train = obtain_new_dict(train_data)\n",
    "new_dict_val = obtain_new_dict(val_data)"
   ]
  },
  {
   "cell_type": "code",
   "execution_count": 116,
   "metadata": {},
   "outputs": [],
   "source": [
    "def create_txt_files(data, folder_path):\n",
    "    for file_name in data.keys():\n",
    "        with open(f'{folder_path}{file_name[:-4]}.txt', 'w') as f:\n",
    "            for annotation in data[file_name]['images']:\n",
    "                x, y, w, h = annotation['bbox']\n",
    "                x_center = x + w/2\n",
    "                y_center = y + h/2\n",
    "                x_center /= data[file_name]['width']\n",
    "                y_center /= data[file_name]['height']\n",
    "                w /= data[file_name]['width']\n",
    "                h /= data[file_name]['height']\n",
    "                class_id = annotation['category_id'] - 1\n",
    "                f.write(f\"{class_id} {x_center} {y_center} {w} {h}\\n\")\n",
    "\n",
    "# Create the txt files for the train and val datasets\n",
    "create_txt_files(new_dict_train, '/hhome/ps2g07/document_analysis/github/Project_Synthesis2-/Nil/yolo_dir/data/labels/train/')\n",
    "create_txt_files(new_dict_val, '/hhome/ps2g07/document_analysis/github/Project_Synthesis2-/Nil/yolo_dir/data/labels/val/')"
   ]
  },
  {
   "cell_type": "code",
   "execution_count": null,
   "metadata": {},
   "outputs": [],
   "source": [
    "[{'supercategory': '', 'id': 1, 'name': 'text'},\n",
    " {'supercategory': '', 'id': 2, 'name': 'title'},\n",
    " {'supercategory': '', 'id': 3, 'name': 'list'},\n",
    " {'supercategory': '', 'id': 4, 'name': 'table'},\n",
    " {'supercategory': '', 'id': 5, 'name': 'figure'},\n",
    " {'supercategory': '', 'id': 6, 'name': 'signature'},\n",
    " {'supercategory': '', 'id': 7, 'name': 'stamp'},\n",
    " {'supercategory': '', 'id': 8, 'name': 'qr'},\n",
    " {'supercategory': '', 'id': 9, 'name': 'barcode'}]"
   ]
  },
  {
   "cell_type": "code",
   "execution_count": 1,
   "metadata": {},
   "outputs": [],
   "source": [
    "from ultralytics import YOLO\n",
    "\n",
    "\n",
    "model = YOLO()"
   ]
  },
  {
   "cell_type": "markdown",
   "metadata": {},
   "source": [
    "model.train??"
   ]
  },
  {
   "cell_type": "code",
   "execution_count": null,
   "metadata": {},
   "outputs": [],
   "source": [
    "\u001b[34m\u001b[1mengine/trainer: \u001b[0mtask=detect, mode=train, model=dla-model.pt, data=yolo_config.yaml, epochs=100, time=None, patience=100, batch=16, imgsz=640, save=True, save_period=-1, cache=False, device=None, workers=8, project=None, name=train17, exist_ok=False, pretrained=True, optimizer=auto, verbose=True, seed=0, deterministic=True, single_cls=False, rect=False, cos_lr=False, close_mosaic=10, resume=False, amp=True, fraction=1.0, profile=False, freeze=None, multi_scale=False, overlap_mask=True, mask_ratio=4, dropout=0.0, val=True, split=val, save_json=False, save_hybrid=False, conf=None, iou=0.7, max_det=300, half=False, dnn=False, plots=True, source=None, vid_stride=1, stream_buffer=False, visualize=False, augment=False, agnostic_nms=False, classes=None, retina_masks=False, embed=None, show=False, save_frames=False, save_txt=False, save_conf=False, save_crop=False, show_labels=True, show_conf=True, show_boxes=True, line_width=None, format=torchscript, keras=False, optimize=False, int8=False, dynamic=False, simplify=False, opset=None, workspace=4, nms=False, lr0=0.01, lrf=0.01, momentum=0.937, weight_decay=0.0005, warmup_epochs=3.0, warmup_momentum=0.8, warmup_bias_lr=0.1, box=7.5, cls=0.5, dfl=1.5, pose=12.0, kobj=1.0, label_smoothing=0.0, nbs=64, hsv_h=0.015, hsv_s=0.7, hsv_v=0.4, degrees=0.0, translate=0.1, scale=0.5, shear=0.0, perspective=0.0, flipud=0.0, fliplr=0.5, bgr=0.0, mosaic=1.0, mixup=0.0, copy_paste=0.0, auto_augment=randaugment, erasing=0.4, crop_fraction=1.0, cfg=None, tracker=botsort.yaml, save_dir=/hhome/ps2g07/runs/detect/train17\n"
   ]
  }
 ],
 "metadata": {
  "kernelspec": {
   "display_name": "DocTR",
   "language": "python",
   "name": "python3"
  },
  "language_info": {
   "codemirror_mode": {
    "name": "ipython",
    "version": 3
   },
   "file_extension": ".py",
   "mimetype": "text/x-python",
   "name": "python",
   "nbconvert_exporter": "python",
   "pygments_lexer": "ipython3",
   "version": "3.12.2"
  }
 },
 "nbformat": 4,
 "nbformat_minor": 2
}
