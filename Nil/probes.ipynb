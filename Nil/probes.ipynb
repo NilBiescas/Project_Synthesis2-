{
 "cells": [
  {
   "cell_type": "code",
   "execution_count": 1,
   "metadata": {},
   "outputs": [
    {
     "name": "stderr",
     "output_type": "stream",
     "text": [
      "/hhome/ps2g07/miniconda3/envs/DocTR/lib/python3.8/site-packages/tqdm/auto.py:21: TqdmWarning: IProgress not found. Please update jupyter and ipywidgets. See https://ipywidgets.readthedocs.io/en/stable/user_install.html\n",
      "  from .autonotebook import tqdm as notebook_tqdm\n"
     ]
    }
   ],
   "source": [
    "from doctr.io import DocumentFile\n",
    "from doctr.models import ocr_predictor\n",
    "import matplotlib.pyplot as plt\n",
    "import os\n",
    "from paths import *\n",
    "from itertools import chain"
   ]
  },
  {
   "cell_type": "code",
   "execution_count": 2,
   "metadata": {},
   "outputs": [],
   "source": [
    "pdfs = []\n",
    "\n",
    "pdfs_path = '/hhome/ps2g07/document_analysis/github/Project_Synthesis2-/Sample documents'\n",
    "for dirpath, dirnames, filenames in os.walk(pdfs_path):\n",
    "    for filename in filenames:\n",
    "        if filename.endswith(\".pdf\"):\n",
    "            # Construct the full path\n",
    "            full_path = Path(dirpath) / filename\n",
    "            # Append it to the list\n",
    "            pdfs.append(full_path)"
   ]
  },
  {
   "cell_type": "code",
   "execution_count": 3,
   "metadata": {},
   "outputs": [],
   "source": [
    "documents = [DocumentFile.from_pdf(pdf) for pdf in pdfs]\n",
    "model = ocr_predictor(det_arch='db_resnet50', reco_arch='crnn_vgg16_bn', pretrained=True)"
   ]
  },
  {
   "cell_type": "code",
   "execution_count": 14,
   "metadata": {},
   "outputs": [
    {
     "data": {
      "text/plain": [
       "(1479, 1229, 3)"
      ]
     },
     "execution_count": 14,
     "metadata": {},
     "output_type": "execute_result"
    }
   ],
   "source": [
    "DocumentFile.from_pdf(pdfs[0])[0].shape"
   ]
  },
  {
   "cell_type": "code",
   "execution_count": 5,
   "metadata": {},
   "outputs": [
    {
     "name": "stdout",
     "output_type": "stream",
     "text": [
      "Scanning document:  Certificado de estudios de bachillerato con apostilla.pdf\n",
      "Scanning document:  Certificado de estudios de licenciatura de la SEP.pdf\n",
      "Scanning document:  Certificado de estudios de licenciatura de la UV con legalización y apostilla.pdf\n",
      "Scanning document:  Certificado de estudios de maestría de la BUAP con apostilla.pdf\n",
      "Scanning document:  Certificado de estudios de posgrado de la SEV.pdf\n",
      "Scanning document:  Constancia de estudios y diploma de bachiller del Colegio Las Hayas.pdf\n",
      "Scanning document:  Estado de cuenta completo BBVA.pdf\n",
      "Scanning document:  Acta de nacimiento del Distrito Federal.pdf\n",
      "Scanning document:  Acta de nacimiento del estado de Veracruz.pdf\n",
      "Scanning document:  Acta de nacimiento electrónica.pdf\n",
      "Scanning document:  Constancia de no antecedentes penales federales.pdf\n",
      "Scanning document:  Constancia de sueldo.pdf\n",
      "Scanning document:  INE Pablo Cárdenas.pdf\n",
      "Scanning document:  Pasaporte.pdf\n",
      "Scanning document:  Acta de matrimonio del estado de México.pdf\n",
      "Scanning document:  Acta de matrimonio del estado de Veracruz.pdf\n",
      "Scanning document:  Acta de examen de grado de maestría de la BUAP.pdf\n",
      "Scanning document:  Título de licenciatura de la Normal Veracruzana con legalización.pdf\n",
      "Scanning document:  Título de licenciatura de la UV con apostilla.pdf\n",
      "Scanning document:  Título de licenciatura de la UV con legalización y apostilla.pdf\n",
      "Scanning document:  Título de licenciatura del ISMEV con apostilla.pdf\n",
      "Scanning document:  Título de maestría de la BUAP con apostilla.pdf\n",
      "Scanning document:  Título electrónico de licenciatura.pdf\n",
      "Scanning document:  Título electrónico escaneado.pdf\n"
     ]
    }
   ],
   "source": [
    "from PIL import Image\n",
    "from PIL import ImageDraw\n",
    "\n",
    "def draw_page(page):\n",
    "    img_shape = page.dimensions\n",
    "    new_img = Image.new('RGB', page.dimensions, color = (255, 255, 255))\n",
    "    draw = ImageDraw.Draw(new_img)\n",
    "    for block in page.blocks:\n",
    "        for line in block.lines:\n",
    "            tuple1, tuple2 = line.geometry\n",
    "            x1, y1 = tuple1\n",
    "            x2, y2 = tuple2\n",
    "            x1, y1, x2, y2 = x1*img_shape[1], y1*img_shape[0], x2*img_shape[1], y2*img_shape[0]\n",
    "            draw.rectangle([x1, y1, x2, y2], fill=None, outline='red')\n",
    "    return new_img\n",
    "\n",
    "folder_minde_out = Path('/hhome/ps2g07/document_analysis/github/Project_Synthesis2-/Nil/output_doctr_mindee')\n",
    "new_folder_mindee = Path('/hhome/ps2g07/document_analysis/github/Project_Synthesis2-/Nil/lines_output')\n",
    "\n",
    "# Assuming img and line_layout are already defined and opened as PIL.Image objects\n",
    "for doc, pdf in zip(documents, pdfs):\n",
    "    print(\"Scanning document: \", pdf.name)\n",
    "    new_folder = new_folder_mindee / pdf.parent.name\n",
    "    new_folder.mkdir(parents=True, exist_ok=True)\n",
    "    out = model(doc)\n",
    "    for idx, page in enumerate(out.pages):\n",
    "        line_layout = draw_page(page)\n",
    "\n",
    "        name_mindee_out = pdf.name + str(idx) + '.png'\n",
    "        line_layout_name = pdf.name + str(idx) + 'layout_lines.png'\n",
    "\n",
    "        path = new_folder / line_layout_name\n",
    "        path_output_doctr = folder_minde_out / pdf.parent.name / name_mindee_out\n",
    "\n",
    "        img = Image.open(path_output_doctr)\n",
    "\n",
    "        # Get the dimensions of both images\n",
    "        width1, height1 = img.size\n",
    "        width2, height2 = line_layout.size\n",
    "\n",
    "        # Create a new image with the combined width and the max height of the two images\n",
    "        new_img = Image.new('RGB', (width1 + width2, max(height1, height2)), (255, 255, 255))\n",
    "\n",
    "        # Paste the two images into the new image\n",
    "        new_img.paste(img, (0, 0))\n",
    "        new_img.paste(line_layout, (width1, 0))\n",
    "\n",
    "        # Save the new image\n",
    "        new_img.save(path)\n"
   ]
  },
  {
   "cell_type": "code",
   "execution_count": 19,
   "metadata": {},
   "outputs": [
    {
     "data": {
      "text/plain": [
       "(1550, 1183)"
      ]
     },
     "execution_count": 19,
     "metadata": {},
     "output_type": "execute_result"
    }
   ],
   "source": [
    "line_layout.size"
   ]
  },
  {
   "cell_type": "code",
   "execution_count": 13,
   "metadata": {},
   "outputs": [],
   "source": [
    "img = Image.open(path_output_doctr)"
   ]
  },
  {
   "cell_type": "code",
   "execution_count": 17,
   "metadata": {},
   "outputs": [
    {
     "data": {
      "text/plain": [
       "(763, 1000)"
      ]
     },
     "execution_count": 17,
     "metadata": {},
     "output_type": "execute_result"
    }
   ],
   "source": [
    "img.size"
   ]
  },
  {
   "cell_type": "code",
   "execution_count": null,
   "metadata": {},
   "outputs": [],
   "source": [
    "folder_minde_out = Path('/hhome/ps2g07/document_analysis/github/Project_Synthesis2-/Nil/lines_output')\n",
    "for doc, pdf in zip(documents, pdfs):\n",
    "    print(\"Scanning documnet: \", pdf.name)\n",
    "    new_folder = folder_minde_out / pdf.parent.name\n",
    "    new_folder.mkdir(parents=True, exist_ok=True) \n",
    "    out = model(doc)\n",
    "    for idx, page in enumerate(out.pages):\n",
    "        \n",
    "        name = pdf.name + str(idx) + '.png'\n",
    "        path = new_folder / name\n",
    "        page.show(path_name = path)\n"
   ]
  },
  {
   "cell_type": "code",
   "execution_count": null,
   "metadata": {},
   "outputs": [],
   "source": [
    "folder_minde_out = Path('/home/nbiescas/Desktop/Synthesis_2/output_doctr_mindee')\n",
    "for doc, pdf in zip(documents, pdfs):\n",
    "    print(\"Scanning documnet: \", pdf.name)\n",
    "    new_folder = folder_minde_out / pdf.parent.name\n",
    "    new_folder.mkdir(parents=True, exist_ok=True) \n",
    "    out = model(doc)\n",
    "    for idx, page in enumerate(out.pages):\n",
    "        name = pdf.name + str(idx) + '.png'\n",
    "        path = new_folder / name\n",
    "        page.show(path_name = path)\n"
   ]
  }
 ],
 "metadata": {
  "kernelspec": {
   "display_name": "SwinDocSegmenter",
   "language": "python",
   "name": "python3"
  },
  "language_info": {
   "codemirror_mode": {
    "name": "ipython",
    "version": 3
   },
   "file_extension": ".py",
   "mimetype": "text/x-python",
   "name": "python",
   "nbconvert_exporter": "python",
   "pygments_lexer": "ipython3",
   "version": "3.8.19"
  },
  "orig_nbformat": 4
 },
 "nbformat": 4,
 "nbformat_minor": 2
}
