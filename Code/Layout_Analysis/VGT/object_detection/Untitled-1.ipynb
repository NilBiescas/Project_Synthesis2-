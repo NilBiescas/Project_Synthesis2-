{
 "cells": [
  {
   "cell_type": "code",
   "execution_count": 1,
   "metadata": {},
   "outputs": [
    {
     "name": "stdout",
     "output_type": "stream",
     "text": [
      "Collecting pdf2image\n",
      "  Obtaining dependency information for pdf2image from https://files.pythonhosted.org/packages/62/33/61766ae033518957f877ab246f87ca30a85b778ebaad65b7f74fa7e52988/pdf2image-1.17.0-py3-none-any.whl.metadata\n",
      "  Downloading pdf2image-1.17.0-py3-none-any.whl.metadata (6.2 kB)\n",
      "Requirement already satisfied: pillow in c:\\users\\maria\\appdata\\local\\packages\\pythonsoftwarefoundation.python.3.10_qbz5n2kfra8p0\\localcache\\local-packages\\python310\\site-packages (from pdf2image) (10.1.0)\n",
      "Downloading pdf2image-1.17.0-py3-none-any.whl (11 kB)\n",
      "Installing collected packages: pdf2image\n",
      "Successfully installed pdf2image-1.17.0\n"
     ]
    },
    {
     "name": "stderr",
     "output_type": "stream",
     "text": [
      "WARNING: Ignoring invalid distribution -illow (c:\\users\\maria\\appdata\\local\\packages\\pythonsoftwarefoundation.python.3.10_qbz5n2kfra8p0\\localcache\\local-packages\\python310\\site-packages)\n",
      "WARNING: Ignoring invalid distribution -illow (c:\\users\\maria\\appdata\\local\\packages\\pythonsoftwarefoundation.python.3.10_qbz5n2kfra8p0\\localcache\\local-packages\\python310\\site-packages)\n",
      "\n",
      "[notice] A new release of pip is available: 23.2.1 -> 24.0\n",
      "[notice] To update, run: C:\\Users\\Maria\\AppData\\Local\\Microsoft\\WindowsApps\\PythonSoftwareFoundation.Python.3.10_qbz5n2kfra8p0\\python.exe -m pip install --upgrade pip\n"
     ]
    }
   ],
   "source": [
    "!pip install pdf2image"
   ]
  },
  {
   "cell_type": "code",
   "execution_count": 8,
   "metadata": {},
   "outputs": [
    {
     "name": "stdout",
     "output_type": "stream",
     "text": [
      "Certificado de estudios de bachillerato con apostilla.pdf\n",
      "Certificado de estudios de licenciatura de la SEP.pdf\n",
      "Certificado de estudios de licenciatura de la UV con legalización y apostilla.pdf\n",
      "Certificado de estudios de maestría de la BUAP con apostilla.pdf\n",
      "Certificado de estudios de posgrado de la SEV.pdf\n",
      "Constancia de estudios y diploma de bachiller del Colegio Las Hayas.pdf\n",
      "Estado de cuenta completo BBVA.pdf\n",
      "Acta de nacimiento del Distrito Federal.pdf\n",
      "Acta de nacimiento del estado de Veracruz.pdf\n",
      "Acta de nacimiento electrónica.pdf\n",
      "Constancia de no antecedentes penales federales.pdf\n",
      "Constancia de sueldo.pdf\n",
      "Error processing INE Daniela Reyes.jpg: Unable to get page count.\n",
      "Syntax Warning: May not be a PDF file (continuing anyway)\n",
      "Syntax Error: Couldn't find trailer dictionary\n",
      "Syntax Error: Couldn't find trailer dictionary\n",
      "Syntax Error: Couldn't read xref table\n",
      "\n",
      "INE Pablo Cárdenas.pdf\n",
      "Pasaporte.pdf\n",
      "Acta de matrimonio del estado de México.pdf\n",
      "Acta de matrimonio del estado de Veracruz.pdf\n",
      "Acta de examen de grado de maestría de la BUAP.pdf\n",
      "Título de licenciatura de la Normal Veracruzana con legalización.pdf\n",
      "Título de licenciatura de la UV con apostilla.pdf\n",
      "Título de licenciatura de la UV con legalización y apostilla.pdf\n",
      "Título de licenciatura del ISMEV con apostilla.pdf\n",
      "Título de maestría de la BUAP con apostilla.pdf\n",
      "Título electrónico de licenciatura.pdf\n",
      "Título electrónico escaneado.pdf\n"
     ]
    }
   ],
   "source": [
    "import pdf2image\n",
    "import os\n",
    "\n",
    "input_dir = \"C:/Users/Maria/OneDrive - UAB/Documentos/3r de IA/Synthesis project II/Sample documents/\"\n",
    "output_dir = input_dir[:-1] + \" - JPG/\"\n",
    "\n",
    "for root, dir, files in os.walk(input_dir):\n",
    "  for file in files:\n",
    "    if file.endswith('.pdf'):\n",
    "      print(file)\n",
    "\n",
    "    try:\n",
    "        # Convert the PDF to images\n",
    "        images = pdf2image.convert_from_path(\n",
    "            os.path.join(root, file),\n",
    "            dpi=72,  # standard dpi used by pdfplumber is 72\n",
    "            fmt=\"jpg\")\n",
    "\n",
    "        new_root = root.replace(input_dir, output_dir)\n",
    "        # Save the images\n",
    "        for i, image in enumerate(images):\n",
    "            os.makedirs(os.path.join(new_root, file[:-4]), exist_ok=True)\n",
    "            image.save(os.path.join(new_root, file[:-4], f\"{i}.jpg\"))\n",
    "    except Exception as e:\n",
    "        print(f\"Error processing {file}: {e}\")"
   ]
  },
  {
   "cell_type": "code",
   "execution_count": null,
   "metadata": {},
   "outputs": [],
   "source": []
  }
 ],
 "metadata": {
  "kernelspec": {
   "display_name": "Python 3",
   "language": "python",
   "name": "python3"
  },
  "language_info": {
   "codemirror_mode": {
    "name": "ipython",
    "version": 3
   },
   "file_extension": ".py",
   "mimetype": "text/x-python",
   "name": "python",
   "nbconvert_exporter": "python",
   "pygments_lexer": "ipython3",
   "version": "3.10.11"
  }
 },
 "nbformat": 4,
 "nbformat_minor": 2
}
